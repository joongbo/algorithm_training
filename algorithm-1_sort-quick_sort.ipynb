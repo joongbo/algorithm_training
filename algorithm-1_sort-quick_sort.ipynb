{
 "cells": [
  {
   "cell_type": "markdown",
   "metadata": {},
   "source": [
    "#### 특정한 값을 기준으로 큰 숫자와 작은 숫자를 나누는 정렬 방법\n",
    "1. 기준 값 (pivot) 을 정해야 함 (보통 맨 처음 숫자를 pivot으로 둔다)\n",
    "2. 앞에서부터 pivot보다 큰 수 선택 (index i)\n",
    "3. 뒤에서부터 pivot보다 작은 수 선택 (index j)\n",
    "4. 조건 i<j 인 경우 i 와 j 를 swap \n",
    "5. i, j 위치에서부터 2-4 반복 4의 조건을 어길 때 까지\n",
    "6. i>j 인 경우 j 와 pivot swap.."
   ]
  },
  {
   "cell_type": "code",
   "execution_count": 22,
   "metadata": {},
   "outputs": [
    {
     "name": "stdout",
     "output_type": "stream",
     "text": [
      "[3, 2, 6, 4, 7, 8, 5, 1, 10, 9]\n",
      "[10, 9, 8, 7, 6, 5, 4, 3, 2, 1]\n"
     ]
    }
   ],
   "source": [
    "# 일단 짜보기!!\n",
    "A = [3,2,6,4,7,8,5,1,10,9]\n",
    "# A = [1,1,1,1,1,10,10,10,10,3,2,6,4,7,8,5,1,10,9,1,1,1,1,1,10,10,10,10]\n",
    "# A = [10,9,8,7,6,5,4,3,2,1]\n",
    "def swap(A, i, j):\n",
    "    tmp = A[i]\n",
    "    A[i] = A[j]\n",
    "    A[j] = tmp\n",
    "    \n",
    "def quicksort(A, begin, end):\n",
    "    if end - begin <= 0:\n",
    "        return 0\n",
    "    pivot = A[begin]\n",
    "    i = begin + 1\n",
    "    j = end\n",
    "    while 1:\n",
    "        while A[i] >= pivot: # <= 오름차순\n",
    "            i += 1\n",
    "            if i >= end:\n",
    "                break\n",
    "        while A[j] <= pivot: # >= 오름차순\n",
    "            j -= 1\n",
    "            if j <= begin:\n",
    "                break\n",
    "        \n",
    "        if i >= j:\n",
    "            swap(A, begin, j)\n",
    "            quicksort(A, begin, j-1)\n",
    "            quicksort(A, j+1, end)\n",
    "            break\n",
    "        else:\n",
    "            swap(A,i,j)\n",
    "            \n",
    "print(A)\n",
    "quicksort(A,0,len(A)-1)\n",
    "print(A)"
   ]
  }
 ],
 "metadata": {
  "kernelspec": {
   "display_name": "Python 3",
   "language": "python",
   "name": "python3"
  },
  "language_info": {
   "codemirror_mode": {
    "name": "ipython",
    "version": 3
   },
   "file_extension": ".py",
   "mimetype": "text/x-python",
   "name": "python",
   "nbconvert_exporter": "python",
   "pygments_lexer": "ipython3",
   "version": "3.6.10"
  }
 },
 "nbformat": 4,
 "nbformat_minor": 4
}
