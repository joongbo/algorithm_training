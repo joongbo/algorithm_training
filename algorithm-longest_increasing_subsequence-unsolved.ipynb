{
 "cells": [
  {
   "cell_type": "markdown",
   "metadata": {},
   "source": [
    "The *longest increasing subsequence* (LIS) problem is closely related to the *longest common subsequence* (LCS) problem, which has a *quadratic* time dynamic programming solution: the LIS of a sequence S is the LCS of S and T, where T is the result of sorting S. However, for the special case in which the input is a permutation of the integers 1, 2, ..., *n*, this approach can be made much more efficient, leading to time bounds of the form O(*n*log*n*)"
   ]
  },
  {
   "cell_type": "code",
   "execution_count": 52,
   "metadata": {},
   "outputs": [],
   "source": [
    "def lis1(arr):\n",
    "    if not arr:\n",
    "        return 0\n",
    "    \n",
    "    ret = 1\n",
    "    for i in range(len(arr)):\n",
    "        nxt = []\n",
    "        for j in range(i+1, len(arr)):\n",
    "            if arr[i] <= arr[j]:\n",
    "                nxt.append(arr[j])\n",
    "        ret = max(ret, 1 + lis(nxt))\n",
    "    return ret"
   ]
  },
  {
   "cell_type": "code",
   "execution_count": 54,
   "metadata": {},
   "outputs": [],
   "source": [
    "def lis2(arr):\n",
    "    N = len(arr)\n",
    "    cache = [-1] * N\n",
    "\n",
    "    def find(start):\n",
    "        if cache[start] != -1:\n",
    "            return cache[start]\n",
    "\n",
    "        ret = 1\n",
    "        for nxt in range(start+1, N):\n",
    "            if arr[start] <= arr[nxt]:\n",
    "                ret = max(ret, find(nxt) + 1)\n",
    "\n",
    "        cache[start] = ret\n",
    "        return ret\n",
    "\n",
    "    return find(0)"
   ]
  },
  {
   "cell_type": "code",
   "execution_count": 55,
   "metadata": {},
   "outputs": [
    {
     "name": "stdout",
     "output_type": "stream",
     "text": [
      "['i', 'i', 'j', 'n', 'j', 'n', 'j', 'n', 'j', 'n', 'j', 'n', 'j', 'h', 'j', 'h', 'j', 'h']\n"
     ]
    }
   ],
   "source": [
    "str_arr = 'iijnjnjnjnjnjhjhjh'\n",
    "\n",
    "print(arr)"
   ]
  },
  {
   "cell_type": "code",
   "execution_count": 56,
   "metadata": {},
   "outputs": [
    {
     "name": "stdout",
     "output_type": "stream",
     "text": [
      "4\n",
      "['i', 'i', 'j', 'n', 'j', 'n', 'j', 'n', 'j', 'n', 'j', 'n', 'j', 'h', 'j', 'h', 'j', 'h']\n"
     ]
    }
   ],
   "source": [
    "arr = [ch for ch in str_arr]\n",
    "print(lis1(arr))\n",
    "print(arr)"
   ]
  },
  {
   "cell_type": "code",
   "execution_count": 57,
   "metadata": {},
   "outputs": [
    {
     "name": "stdout",
     "output_type": "stream",
     "text": [
      "10\n"
     ]
    }
   ],
   "source": [
    "print(lis2(arr))"
   ]
  },
  {
   "cell_type": "code",
   "execution_count": 50,
   "metadata": {},
   "outputs": [],
   "source": [
    "\n",
    "def my_lis(arr):\n",
    "    if len(arr) < 2:\n",
    "        return len(arr)\n",
    "    else:\n",
    "        while 1:\n",
    "            point = []\n",
    "            for i in range(len(arr)-1):\n",
    "                if arr[i] > arr[i+1]:\n",
    "                    point.append(i)\n",
    "            if point:\n",
    "                for p in point[::-1]:\n",
    "                    if p > len(arr)//2:\n",
    "                        arr.pop(p+1)\n",
    "                    else:\n",
    "                        arr.pop(p)\n",
    "            else:\n",
    "                break\n",
    "        return len(arr)"
   ]
  },
  {
   "cell_type": "code",
   "execution_count": 51,
   "metadata": {},
   "outputs": [
    {
     "name": "stdout",
     "output_type": "stream",
     "text": [
      "8\n",
      "['i', 'i', 'j', 'j', 'j', 'n', 'n', 'n']\n"
     ]
    }
   ],
   "source": [
    "arr = [ch for ch in str_arr]\n",
    "print(my_lis(arr))\n",
    "print(arr)"
   ]
  }
 ],
 "metadata": {
  "kernelspec": {
   "display_name": "Python 3",
   "language": "python",
   "name": "python3"
  },
  "language_info": {
   "codemirror_mode": {
    "name": "ipython",
    "version": 3
   },
   "file_extension": ".py",
   "mimetype": "text/x-python",
   "name": "python",
   "nbconvert_exporter": "python",
   "pygments_lexer": "ipython3",
   "version": "3.6.10"
  }
 },
 "nbformat": 4,
 "nbformat_minor": 4
}
