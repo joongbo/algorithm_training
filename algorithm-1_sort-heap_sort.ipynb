{
 "cells": [
  {
   "cell_type": "markdown",
   "metadata": {},
   "source": [
    "### 힙(Heap)이란?\n",
    "최대값(혹은 최소값)을 빠르게 찾기 위해 완전 이진 트리(complete binary tree)를 사용한 구조\n",
    "- (max) heap: 부모노드가 자식노드보다 큰 힙\n",
    "- heapify: (최대힙을 항상 유지하도록) 국소적 최대힙이 깨진 경우, 2개의 자식노드 중 큰 값을 부모노드와 바꿔주는 것을 타고 올라가며 반복\n",
    "- heap sort: 가장 큰 수(최대힙의 첫번째 수)와 마지막 수를 바꾸고 heapify 를 반복하여, 뒤에서부터 가장 큰 수가 배열되도록 정렬"
   ]
  },
  {
   "cell_type": "code",
   "execution_count": 1,
   "metadata": {},
   "outputs": [],
   "source": [
    "A = [1,6,7,8,4,7,5]"
   ]
  },
  {
   "cell_type": "code",
   "execution_count": 2,
   "metadata": {},
   "outputs": [],
   "source": [
    "def swap(A, i, j):\n",
    "    tmp = A[i]\n",
    "    A[i] = A[j]\n",
    "    A[j] = tmp"
   ]
  },
  {
   "cell_type": "code",
   "execution_count": 62,
   "metadata": {},
   "outputs": [],
   "source": [
    "def heapify(A, end):\n",
    "    # root 부터 중간 지점(end//2)까지 (max)heap을 유지하는 지 확인\n",
    "    # 기준노드가 heap 이 아닌 경우, 자식노드들 중 큰 수를 기준노드와 자리교환\n",
    "    # 자리교환 후, 기준노드의 부모노드와 heap 이 유지가 될 때 까지 계속 자리 교환\n",
    "    \n",
    "    middle = (end-1)//2\n",
    "    for i in range(middle+1):\n",
    "        # index 가 0 부터 시작하므로 0 의 자식노드들은 1, 2\n",
    "        l = 2*i+1\n",
    "        r = 2*(i+1)\n",
    "        if l > end:\n",
    "            break\n",
    "        elif r > end:\n",
    "            if A[i] < A[l]:\n",
    "                swap(A, i, l)\n",
    "        elif A[i] < A[l] or A[i] < A[r]: \n",
    "            if A[l > A[r]:\n",
    "                swap(A, i, l)\n",
    "            else:\n",
    "                swap(A, i, r)\n",
    "                \n",
    "        # index 가 0 부터 시작하므로 1, 2 의 무보노드는 0\n",
    "        while i > 0:\n",
    "            if A[i] > A[(i-1)//2]:\n",
    "                swap(A, i, (i-1)//2)\n",
    "                i = (i-1)//2\n",
    "            else:\n",
    "                break"
   ]
  },
  {
   "cell_type": "code",
   "execution_count": 63,
   "metadata": {},
   "outputs": [
    {
     "name": "stdout",
     "output_type": "stream",
     "text": [
      "[1, 6, 7, 8, 4, 7, 5, 9]\n",
      "[9, 8, 7, 7, 4, 1, 5, 6]\n"
     ]
    }
   ],
   "source": [
    "A = [1,6,7,8,4,7,5,9]\n",
    "print(A)\n",
    "heapify(A, len(A)-1)\n",
    "print(A)"
   ]
  },
  {
   "cell_type": "code",
   "execution_count": 66,
   "metadata": {},
   "outputs": [
    {
     "name": "stdout",
     "output_type": "stream",
     "text": [
      "[6, 7, 8, 1, 7, 2, 4, 9, 1]\n",
      "[1, 1, 2, 4, 6, 7, 7, 8, 9]\n"
     ]
    }
   ],
   "source": [
    "def heapSort(A):\n",
    "    for i in range(len(A)-1, 0, -1):\n",
    "        heapify(A, i)\n",
    "        swap(A, 0, i)\n",
    "\n",
    "A = [6,7,8,1,7,2,4,9,1]\n",
    "print(A)\n",
    "for i in range(len(A)-1, -1, -1):\n",
    "    heapify(A, i)\n",
    "    swap(A, 0, i)\n",
    "# heapSort(A)\n",
    "print(A)"
   ]
  },
  {
   "cell_type": "markdown",
   "metadata": {},
   "source": [
    "메모리 측면에서, 병합 정렬보다 더 효율적인 알고리즘"
   ]
  }
 ],
 "metadata": {
  "kernelspec": {
   "display_name": "Python 3",
   "language": "python",
   "name": "python3"
  },
  "language_info": {
   "codemirror_mode": {
    "name": "ipython",
    "version": 3
   },
   "file_extension": ".py",
   "mimetype": "text/x-python",
   "name": "python",
   "nbconvert_exporter": "python",
   "pygments_lexer": "ipython3",
   "version": "3.6.10"
  }
 },
 "nbformat": 4,
 "nbformat_minor": 4
}
