{
 "cells": [
  {
   "cell_type": "markdown",
   "metadata": {},
   "source": [
    "### 2752"
   ]
  },
  {
   "cell_type": "code",
   "execution_count": 4,
   "metadata": {},
   "outputs": [
    {
     "name": "stdout",
     "output_type": "stream",
     "text": [
      "5 4 1\n",
      "1 4 5\n"
     ]
    }
   ],
   "source": [
    "array = [int(i) for i in input().split()]\n",
    "\n",
    "def swap(a, i, j):\n",
    "    tmp = a[i]\n",
    "    a[i] = a[j]\n",
    "    a[j] = tmp\n",
    "    \n",
    "for i in range(3):\n",
    "    _min = array[i]\n",
    "    _idx = i\n",
    "    for j in range(i,3):\n",
    "        if array[j] < _min:\n",
    "            _min = array[j]\n",
    "            _idx = j\n",
    "    if i != _idx:\n",
    "        swap(array, i, _idx)\n",
    "\n",
    "print(f\"{array[0]} {array[1]} {array[2]}\")"
   ]
  },
  {
   "cell_type": "markdown",
   "metadata": {},
   "source": [
    "### 2750"
   ]
  },
  {
   "cell_type": "code",
   "execution_count": 9,
   "metadata": {
    "scrolled": true
   },
   "outputs": [
    {
     "name": "stdout",
     "output_type": "stream",
     "text": [
      "5\n",
      "5\n",
      "2\n",
      "4\n",
      "3\n",
      "1\n",
      "1\n",
      "2\n",
      "3\n",
      "4\n",
      "5\n"
     ]
    }
   ],
   "source": [
    "N = int(input())\n",
    "array = []\n",
    "for _ in range(N):\n",
    "    array.append(int(input()))\n",
    "\n",
    "def swap(a, i, j):\n",
    "    tmp = a[i]\n",
    "    a[i] = a[j]\n",
    "    a[j] = tmp\n",
    "\n",
    "for i in range(N):\n",
    "    _min = array[i]\n",
    "    _idx = i\n",
    "    for j in range(i,N):\n",
    "        if array[j] < _min:\n",
    "            _min = array[j]\n",
    "            _idx = j\n",
    "    if i != _idx:\n",
    "        swap(array, i, _idx)\n",
    "\n",
    "for a in array:\n",
    "    print(a)"
   ]
  },
  {
   "cell_type": "markdown",
   "metadata": {},
   "source": [
    "### 2751"
   ]
  },
  {
   "cell_type": "code",
   "execution_count": 11,
   "metadata": {},
   "outputs": [
    {
     "name": "stdout",
     "output_type": "stream",
     "text": [
      "5\n",
      "5\n",
      "2\n",
      "4\n",
      "3\n",
      "1\n",
      "1\n",
      "2\n",
      "3\n",
      "4\n",
      "5\n"
     ]
    }
   ],
   "source": [
    "N = int(input())\n",
    "array = []\n",
    "for _ in range(N):\n",
    "    array.append(int(input()))\n",
    "\n",
    "def swap(a, i, j):\n",
    "    tmp = a[i]\n",
    "    a[i] = a[j]\n",
    "    a[j] = tmp\n",
    "\n",
    "def quickSort(a, start, end):\n",
    "    if end <= start:\n",
    "        return 0\n",
    "    pivot = a[start]\n",
    "    i = start + 1\n",
    "    j = end\n",
    "    while 1:\n",
    "        while a[i] < pivot and i < end:\n",
    "            i += 1\n",
    "        while a[j] > pivot and j > start:\n",
    "            j -= 1\n",
    "        if i < j:\n",
    "            swap(a, i, j)\n",
    "        else:\n",
    "            break\n",
    "    \n",
    "    swap(a, j, start)\n",
    "    quickSort(a, start, j-1)\n",
    "    quickSort(a, j+1, end)\n",
    "\n",
    "quickSort(array, 0, len(array)-1)\n",
    "for a in array:\n",
    "    print(a)"
   ]
  },
  {
   "cell_type": "markdown",
   "metadata": {},
   "source": [
    "### 내장함수사용"
   ]
  },
  {
   "cell_type": "code",
   "execution_count": 15,
   "metadata": {},
   "outputs": [
    {
     "name": "stdout",
     "output_type": "stream",
     "text": [
      "1\n",
      "2\n",
      "3\n",
      "4\n",
      "5\n"
     ]
    }
   ],
   "source": [
    "print(*sorted(array), sep='\\n')"
   ]
  }
 ],
 "metadata": {
  "kernelspec": {
   "display_name": "Python 3",
   "language": "python",
   "name": "python3"
  },
  "language_info": {
   "codemirror_mode": {
    "name": "ipython",
    "version": 3
   },
   "file_extension": ".py",
   "mimetype": "text/x-python",
   "name": "python",
   "nbconvert_exporter": "python",
   "pygments_lexer": "ipython3",
   "version": "3.6.10"
  }
 },
 "nbformat": 4,
 "nbformat_minor": 4
}
