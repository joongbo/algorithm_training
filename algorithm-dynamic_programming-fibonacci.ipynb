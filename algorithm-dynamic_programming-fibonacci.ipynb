{
 "cells": [
  {
   "cell_type": "markdown",
   "metadata": {},
   "source": [
    "## finobanni without dynamic programming"
   ]
  },
  {
   "cell_type": "code",
   "execution_count": 2,
   "metadata": {},
   "outputs": [],
   "source": [
    "import time"
   ]
  },
  {
   "cell_type": "code",
   "execution_count": 1,
   "metadata": {},
   "outputs": [],
   "source": [
    "def fibonacci(x):\n",
    "    if x == 1: return 1 # 종료 조건 1\n",
    "    if x == 2: return 2 # 종료 조건 2\n",
    "    return fibonacci(x-1) + fibonacci(x-2) # "
   ]
  },
  {
   "cell_type": "code",
   "execution_count": 9,
   "metadata": {},
   "outputs": [
    {
     "name": "stdout",
     "output_type": "stream",
     "text": [
      "1346269 -0.26888346672058105\n"
     ]
    }
   ],
   "source": [
    "x = 30\n",
    "start_time = time.time()\n",
    "res = fibonacci(x)\n",
    "end_time = time.time()\n",
    "print(res, start_time - end_time)"
   ]
  },
  {
   "cell_type": "code",
   "execution_count": 10,
   "metadata": {},
   "outputs": [
    {
     "name": "stdout",
     "output_type": "stream",
     "text": [
      "3524578 -0.5514678955078125\n"
     ]
    }
   ],
   "source": [
    "x = 32\n",
    "start_time = time.time()\n",
    "res = fibonacci(x)\n",
    "end_time = time.time()\n",
    "print(res, start_time - end_time)"
   ]
  },
  {
   "cell_type": "markdown",
   "metadata": {},
   "source": [
    "how about 50?"
   ]
  },
  {
   "cell_type": "code",
   "execution_count": 15,
   "metadata": {},
   "outputs": [],
   "source": [
    "N = 10000 # memory size\n",
    "memory = [0]* (N+1) # memory array\n",
    "def dp_fibonacci(x):\n",
    "    if x > N: raise IOError(f'input should less than {N}, given {x}') # check out-of-memory issue\n",
    "    if x == 1: return 1 # 종료 조건 1\n",
    "    if x == 2: return 2 # 종료 조건 2\n",
    "    if memory[x] != 0: return memory[x] # ** 추가 종료 조건 ** 한번 계산 한 것은 그대로 출력\n",
    "    memory[x] = dp_fibonacci(x-1) + dp_fibonacci(x-2) # 다시 계산하지 않도록 계산 내역 저장\n",
    "    return memory[x]"
   ]
  },
  {
   "cell_type": "code",
   "execution_count": 16,
   "metadata": {},
   "outputs": [
    {
     "name": "stdout",
     "output_type": "stream",
     "text": [
      "20365011074 -0.00019621849060058594\n"
     ]
    }
   ],
   "source": [
    "x = 50\n",
    "start_time = time.time()\n",
    "res = dp_fibonacci(x)\n",
    "end_time = time.time()\n",
    "print(res, start_time - end_time)"
   ]
  },
  {
   "cell_type": "code",
   "execution_count": 19,
   "metadata": {},
   "outputs": [
    {
     "name": "stdout",
     "output_type": "stream",
     "text": [
      "[0, 0, 0, 3, 5, 8, 13, 21, 34, 55, 89, 144, 233, 377, 610, 987, 1597, 2584, 4181, 6765]\n"
     ]
    }
   ],
   "source": [
    "print(memory[:20]) # caution! index 0, 1, 2 는 저장 안 함"
   ]
  }
 ],
 "metadata": {
  "kernelspec": {
   "display_name": "Python 3",
   "language": "python",
   "name": "python3"
  },
  "language_info": {
   "codemirror_mode": {
    "name": "ipython",
    "version": 3
   },
   "file_extension": ".py",
   "mimetype": "text/x-python",
   "name": "python",
   "nbconvert_exporter": "python",
   "pygments_lexer": "ipython3",
   "version": "3.6.10"
  }
 },
 "nbformat": 4,
 "nbformat_minor": 4
}
