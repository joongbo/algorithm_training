{
 "cells": [
  {
   "cell_type": "markdown",
   "metadata": {},
   "source": [
    "각 숫자를 적절한 위치에 삽입하는 정렬 방법"
   ]
  },
  {
   "cell_type": "code",
   "execution_count": 6,
   "metadata": {},
   "outputs": [
    {
     "name": "stdout",
     "output_type": "stream",
     "text": [
      "[1, 10, 2, 5, 76, 7, 8, 3, 12, 6, 1, 1]\n",
      "[1, 1, 1, 2, 3, 5, 6, 7, 8, 10, 12, 76]\n"
     ]
    }
   ],
   "source": [
    "# 일단 짜보기 (추가 array 사용하는 방법)\n",
    "A = [1,10,2,5,76,7,8,3,12,6,1,1]\n",
    "def sort(A):\n",
    "    S = [A[0]]\n",
    "    for i in range(1,len(A)):\n",
    "        notYet = True\n",
    "        for j in range(len(S)):\n",
    "            if A[i] < S[j]:\n",
    "                S.insert(j,A[i])\n",
    "                notYet = False\n",
    "                break\n",
    "        if notYet:\n",
    "            S.append(A[i])\n",
    "    return S\n",
    "\n",
    "print(A)\n",
    "S = sort(A)\n",
    "print(S)"
   ]
  },
  {
   "cell_type": "code",
   "execution_count": 8,
   "metadata": {},
   "outputs": [
    {
     "name": "stdout",
     "output_type": "stream",
     "text": [
      "[1, 10, 2, 5, 76, 7, 8, 3, 12, 6, 1, 1]\n",
      "[1, 1, 1, 2, 3, 5, 6, 7, 8, 10, 12, 76]\n"
     ]
    }
   ],
   "source": [
    "# 다른 방법 (추가 array 사용 안하는 방법)\n",
    "A = [1,10,2,5,76,7,8,3,12,6,1,1]\n",
    "\n",
    "def swap(A,i,j):\n",
    "    tmp = A[i]\n",
    "    A[i] = A[j]\n",
    "    A[j] = tmp\n",
    "    \n",
    "def sort(A):\n",
    "    for i in range(len(A)-1):\n",
    "        j = i\n",
    "        while A[j] > A[j+1]:\n",
    "            swap(A,j,j+1)\n",
    "            j -= 1\n",
    "            \n",
    "print(A)\n",
    "sort(A)\n",
    "print(A)"
   ]
  },
  {
   "cell_type": "markdown",
   "metadata": {},
   "source": [
    "insert sort 는 매번 sub-sorted array 를 다루기 때문에 bubble, selection sort 보다 실질적으로 조금 더 효율적이다."
   ]
  }
 ],
 "metadata": {
  "kernelspec": {
   "display_name": "Python 3",
   "language": "python",
   "name": "python3"
  },
  "language_info": {
   "codemirror_mode": {
    "name": "ipython",
    "version": 3
   },
   "file_extension": ".py",
   "mimetype": "text/x-python",
   "name": "python",
   "nbconvert_exporter": "python",
   "pygments_lexer": "ipython3",
   "version": "3.6.10"
  }
 },
 "nbformat": 4,
 "nbformat_minor": 4
}
