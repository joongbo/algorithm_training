{
 "cells": [
  {
   "cell_type": "markdown",
   "metadata": {},
   "source": [
    "일단 반으로 나누고 나중에 합치면서 정렬하는 정렬 방법"
   ]
  },
  {
   "cell_type": "code",
   "execution_count": 15,
   "metadata": {},
   "outputs": [],
   "source": [
    "A = [7,3,8,9,4,1,2,3]\n",
    "S = [0]*len(A)"
   ]
  },
  {
   "cell_type": "code",
   "execution_count": 16,
   "metadata": {},
   "outputs": [
    {
     "name": "stdout",
     "output_type": "stream",
     "text": [
      "[7, 3, 8, 9, 4, 1, 2, 3]\n",
      "[1, 2, 3, 3, 4, 7, 8, 9]\n"
     ]
    }
   ],
   "source": [
    "def swap(A, i, j):\n",
    "    tmp = A[i]\n",
    "    A[i] = A[j]\n",
    "    A[j] = tmp\n",
    "\n",
    "def merge(A, start, middle, end):\n",
    "    i = start\n",
    "    j = middle + 1\n",
    "    k = start\n",
    "    while i <= middle and j <= end:\n",
    "        if A[i] >= A[j] :\n",
    "            S[k] = A[j]\n",
    "            j += 1\n",
    "        elif A[j] >= A[i] :\n",
    "            S[k] = A[i]\n",
    "            i += 1\n",
    "        k += 1\n",
    "        \n",
    "    if i > middle:\n",
    "        while j <= end:\n",
    "            S[k] = A[j]\n",
    "            j += 1\n",
    "            k += 1\n",
    "    else:\n",
    "        while i <= middle:\n",
    "            S[k] = A[i]\n",
    "            i += 1\n",
    "            k += 1\n",
    "            \n",
    "    for i in range(start, end+1):\n",
    "        A[i] = S[i]\n",
    "\n",
    "def mergeSort(A, start, end):\n",
    "    if start < end:\n",
    "        middle = (start + end)//2\n",
    "        mergeSort(A, start, middle)\n",
    "        mergeSort(A, middle+1, end)\n",
    "        merge(A, start, middle, end)\n",
    "        \n",
    "print(A)\n",
    "mergeSort(A, 0, len(A)-1)\n",
    "print(A)\n"
   ]
  },
  {
   "cell_type": "code",
   "execution_count": null,
   "metadata": {},
   "outputs": [],
   "source": []
  }
 ],
 "metadata": {
  "kernelspec": {
   "display_name": "Python 3",
   "language": "python",
   "name": "python3"
  },
  "language_info": {
   "codemirror_mode": {
    "name": "ipython",
    "version": 3
   },
   "file_extension": ".py",
   "mimetype": "text/x-python",
   "name": "python",
   "nbconvert_exporter": "python",
   "pygments_lexer": "ipython3",
   "version": "3.6.10"
  }
 },
 "nbformat": 4,
 "nbformat_minor": 4
}
