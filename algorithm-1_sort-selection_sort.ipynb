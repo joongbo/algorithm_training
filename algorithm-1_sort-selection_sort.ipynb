{
 "cells": [
  {
   "cell_type": "code",
   "execution_count": 35,
   "metadata": {},
   "outputs": [],
   "source": [
    "A = [1,10,2,5,76,7,8,3,12,6,1,1]"
   ]
  },
  {
   "cell_type": "code",
   "execution_count": 36,
   "metadata": {},
   "outputs": [],
   "source": [
    "def sort(A):\n",
    "    S = []\n",
    "    for i in range(len(A)):\n",
    "        _min = 10001\n",
    "        _idx = 0\n",
    "        if i == 0:\n",
    "            geq = 0\n",
    "        else:\n",
    "            geq = S[i-1]\n",
    "            \n",
    "        for j in range(len(A)):\n",
    "            if A[j] >= geq:\n",
    "                if A[j] < _min:\n",
    "                    _min = A[j]\n",
    "                    _idx = j\n",
    "        A.pop(_idx)\n",
    "        S.append(_min)\n",
    "    return S"
   ]
  },
  {
   "cell_type": "code",
   "execution_count": 37,
   "metadata": {
    "scrolled": true
   },
   "outputs": [
    {
     "name": "stdout",
     "output_type": "stream",
     "text": [
      "[1, 1, 1, 2, 3, 5, 6, 7, 8, 10, 12, 76]\n"
     ]
    }
   ],
   "source": [
    "S = sort(A)\n",
    "print(S)"
   ]
  },
  {
   "cell_type": "code",
   "execution_count": 38,
   "metadata": {},
   "outputs": [
    {
     "name": "stdout",
     "output_type": "stream",
     "text": [
      "[1, 10, 2, 5, 76, 7, 8, 3, 12, 6, 1, 1]\n",
      "[1, 1, 1, 2, 3, 5, 6, 7, 8, 10, 12, 76]\n"
     ]
    }
   ],
   "source": [
    "A = [1,10,2,5,76,7,8,3,12,6,1,1]\n",
    "print(A)\n",
    "def swap(A,i,j):\n",
    "    tmp = A[i]\n",
    "    A[i] = A[j]\n",
    "    A[j] = tmp\n",
    "\n",
    "def sort(A):\n",
    "    for i in range(len(A)):\n",
    "        curr_min = A[i]\n",
    "        min_idx = i\n",
    "        for j in range(i,len(A)):\n",
    "            if A[j] < curr_min:\n",
    "                curr_min = A[j]\n",
    "                min_idx = j\n",
    "        if i == min_idx:\n",
    "            continue\n",
    "        swap(A,i,min_idx)\n",
    "    return A\n",
    "\n",
    "sort(A)\n",
    "print(A)"
   ]
  }
 ],
 "metadata": {
  "kernelspec": {
   "display_name": "Python 3",
   "language": "python",
   "name": "python3"
  },
  "language_info": {
   "codemirror_mode": {
    "name": "ipython",
    "version": 3
   },
   "file_extension": ".py",
   "mimetype": "text/x-python",
   "name": "python",
   "nbconvert_exporter": "python",
   "pygments_lexer": "ipython3",
   "version": "3.6.10"
  }
 },
 "nbformat": 4,
 "nbformat_minor": 4
}
