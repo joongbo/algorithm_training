{
 "cells": [
  {
   "cell_type": "markdown",
   "metadata": {},
   "source": [
    "2xn 크기의 면적을 1x2, 2x1, 1x1 타일로 타일링 하는 방법의 가짓 수 구하기\n",
    "- 조건 1. 1 <= n <= 1,000,000 입력\n",
    "- 조건 2. 첫째 줄에 경우의 수를 1,000,000,007로 나눈 나머지를 출력한다."
   ]
  },
  {
   "cell_type": "code",
   "execution_count": 9,
   "metadata": {},
   "outputs": [],
   "source": [
    "import sys\n",
    "sys.setrecursionlimit(10000000)\n",
    "\n",
    "limit = 1000000\n",
    "memory = [0] * (limit + 1)"
   ]
  },
  {
   "cell_type": "code",
   "execution_count": 12,
   "metadata": {},
   "outputs": [
    {
     "name": "stdout",
     "output_type": "stream",
     "text": [
      "3\n",
      "22\n"
     ]
    }
   ],
   "source": [
    "def tiling(n):\n",
    "    if n == 0: \n",
    "        memory[n] = 1\n",
    "        return memory[n]\n",
    "    if n == 1: \n",
    "        memory[n] = 2\n",
    "        return memory[n]\n",
    "    if n == 2: \n",
    "        memory[n] = 7\n",
    "        return memory[n]\n",
    "    if memory[n]: \n",
    "        return memory[n]\n",
    "    res = 2*tiling(n-1) + 3*tiling(n-2)\n",
    "    for i in range(3, n+1):\n",
    "        res += 2*tiling(n-i)\n",
    "    memory[n] = res\n",
    "    return memory[n] % 1000000007\n",
    "\n",
    "n = int(input())\n",
    "print(tiling(n))\n",
    "# 시간초과!!!"
   ]
  },
  {
   "cell_type": "markdown",
   "metadata": {},
   "source": [
    "아래와 같이 2차원 배열을 통해 반복 계산되는 것을 효율적으로 계산 ~ O(n):"
   ]
  },
  {
   "cell_type": "markdown",
   "metadata": {},
   "source": [
    "|index|0|1|2|3|4|...|\n",
    "|---|:---:|:---:|:---:|:---:|:---:|:---:|\n",
    "|mem1|0|2|7|22|71|...|\n",
    "|mem2|0|0|1|1|3|...|"
   ]
  },
  {
   "cell_type": "code",
   "execution_count": 19,
   "metadata": {},
   "outputs": [
    {
     "name": "stdout",
     "output_type": "stream",
     "text": [
      "4\n",
      "71\n"
     ]
    }
   ],
   "source": [
    "import sys\n",
    "sys.setrecursionlimit(10000000)\n",
    "\n",
    "limit = 1000000\n",
    "\n",
    "memory1 = [0] * (limit + 1)\n",
    "memory2 = [0] * (limit + 1)\n",
    "\n",
    "def tiling(n):\n",
    "    memory1[1] = 2\n",
    "    memory1[2] = 7\n",
    "    memory2[2] = 1\n",
    "    for i in range(3, n+1):\n",
    "        memory2[i] = (memory2[i-1] + memory1[i-3]) % 1000000007\n",
    "        memory1[i] = (2*memory1[i-1] + 3*memory1[i-2] + 2*memory2[i]) % 1000000007\n",
    "    return memory1[n]\n",
    "\n",
    "n = int(input())\n",
    "print(tiling(n))"
   ]
  },
  {
   "cell_type": "code",
   "execution_count": 21,
   "metadata": {},
   "outputs": [
    {
     "name": "stdout",
     "output_type": "stream",
     "text": [
      "4 71 3\n"
     ]
    }
   ],
   "source": [
    "i = 4\n",
    "print(i, memory1[i], memory2[i])"
   ]
  },
  {
   "cell_type": "markdown",
   "metadata": {},
   "source": [
    "하지만, int 로는 overflow 가 일어나기때문에, long long int 형이 쓰임"
   ]
  }
 ],
 "metadata": {
  "kernelspec": {
   "display_name": "Python 3",
   "language": "python",
   "name": "python3"
  },
  "language_info": {
   "codemirror_mode": {
    "name": "ipython",
    "version": 3
   },
   "file_extension": ".py",
   "mimetype": "text/x-python",
   "name": "python",
   "nbconvert_exporter": "python",
   "pygments_lexer": "ipython3",
   "version": "3.6.10"
  }
 },
 "nbformat": 4,
 "nbformat_minor": 4
}
