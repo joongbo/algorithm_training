{
 "cells": [
  {
   "cell_type": "markdown",
   "metadata": {},
   "source": [
    "바로 옆에있는 값과 비교해서 작은 값을 앞으로 보내는 정렬 방법"
   ]
  },
  {
   "cell_type": "code",
   "execution_count": 2,
   "metadata": {},
   "outputs": [
    {
     "name": "stdout",
     "output_type": "stream",
     "text": [
      "11\n",
      "10\n",
      "9\n",
      "8\n",
      "7\n",
      "6\n",
      "5\n",
      "4\n",
      "3\n",
      "2\n",
      "1\n",
      "0\n"
     ]
    }
   ],
   "source": [
    "A = [1,10,2,5,76,7,8,3,12,6,1,1]\n",
    "for i in range(len(A)-1,-1,-1):\n",
    "    print(i)"
   ]
  },
  {
   "cell_type": "code",
   "execution_count": 5,
   "metadata": {},
   "outputs": [
    {
     "name": "stdout",
     "output_type": "stream",
     "text": [
      "[1, 10, 2, 5, 76, 7, 8, 3, 12, 6, 1, 1]\n",
      "[1, 1, 1, 2, 3, 5, 6, 7, 8, 10, 12, 76]\n"
     ]
    }
   ],
   "source": [
    "A = [1,10,2,5,76,7,8,3,12,6,1,1]\n",
    "print(A)\n",
    "def swap(A,i,j):\n",
    "    tmp = A[i]\n",
    "    A[i] = A[j]\n",
    "    A[j] = tmp\n",
    "    \n",
    "def sort(A): # 가장 작은 수를 맨 앞으로\n",
    "    for _ in range(len(A)):\n",
    "        for i in range(len(A)-1,0,-1):\n",
    "            if A[i-1] > A[i]:\n",
    "                swap(A, i, i-1)\n",
    "sort(A)\n",
    "print(A)"
   ]
  },
  {
   "cell_type": "code",
   "execution_count": 7,
   "metadata": {},
   "outputs": [
    {
     "name": "stdout",
     "output_type": "stream",
     "text": [
      "[1, 10, 2, 5, 76, 7, 8, 3, 12, 6, 1, 1]\n",
      "[1, 1, 1, 2, 3, 5, 6, 7, 8, 10, 12, 76]\n"
     ]
    }
   ],
   "source": [
    "A = [1,10,2,5,76,7,8,3,12,6,1,1]\n",
    "print(A)\n",
    "def swap(A,i,j):\n",
    "    tmp = A[i]\n",
    "    A[i] = A[j]\n",
    "    A[j] = tmp\n",
    "    \n",
    "def sort(A): # 가장 큰 수를 맨 뒤로\n",
    "    for i in range(len(A)):\n",
    "        for j in range(len(A)-1-i):\n",
    "            if A[j] > A[j+1]:\n",
    "                swap(A, j, j+1)\n",
    "sort(A)\n",
    "print(A)"
   ]
  },
  {
   "cell_type": "code",
   "execution_count": null,
   "metadata": {},
   "outputs": [],
   "source": []
  }
 ],
 "metadata": {
  "kernelspec": {
   "display_name": "Python 3",
   "language": "python",
   "name": "python3"
  },
  "language_info": {
   "codemirror_mode": {
    "name": "ipython",
    "version": 3
   },
   "file_extension": ".py",
   "mimetype": "text/x-python",
   "name": "python",
   "nbconvert_exporter": "python",
   "pygments_lexer": "ipython3",
   "version": "3.6.10"
  }
 },
 "nbformat": 4,
 "nbformat_minor": 4
}
