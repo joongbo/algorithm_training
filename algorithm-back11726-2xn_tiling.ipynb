{
 "cells": [
  {
   "cell_type": "markdown",
   "metadata": {},
   "source": [
    "2xn 크기의 면적을 1x2, 2x1 타일로 타일링 하는 방법의 가짓 수 구하기\n",
    "- 조건 1. 1 <= n <= 1000 입력\n",
    "- 조건 2. 출력은 10,007로 나눈 나머지를 출력"
   ]
  },
  {
   "cell_type": "code",
   "execution_count": 6,
   "metadata": {},
   "outputs": [],
   "source": [
    "import sys"
   ]
  },
  {
   "cell_type": "code",
   "execution_count": 1,
   "metadata": {},
   "outputs": [],
   "source": [
    "limit = 1000\n",
    "memory = [0] * (limit + 1)\n",
    "sys.setrecursionlimit(limit + 1)\n",
    "\n",
    "def tiling(n):\n",
    "    if n == 1: return 1\n",
    "    if n == 2: return 2\n",
    "    if memory[n] != 0: return memory[n]\n",
    "    memory[n] = tiling(n-1) + tiling(n-2)\n",
    "    return memory[n]"
   ]
  },
  {
   "cell_type": "code",
   "execution_count": 5,
   "metadata": {},
   "outputs": [
    {
     "name": "stdout",
     "output_type": "stream",
     "text": [
      "1000\n",
      "\n",
      "1115\n"
     ]
    }
   ],
   "source": [
    "n = int(input())\n",
    "print(tiling(n)%10007)"
   ]
  }
 ],
 "metadata": {
  "kernelspec": {
   "display_name": "Python 3",
   "language": "python",
   "name": "python3"
  },
  "language_info": {
   "codemirror_mode": {
    "name": "ipython",
    "version": 3
   },
   "file_extension": ".py",
   "mimetype": "text/x-python",
   "name": "python",
   "nbconvert_exporter": "python",
   "pygments_lexer": "ipython3",
   "version": "3.6.10"
  }
 },
 "nbformat": 4,
 "nbformat_minor": 4
}
