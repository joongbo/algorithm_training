{
 "cells": [
  {
   "cell_type": "markdown",
   "metadata": {},
   "source": [
    "3xn 크기의 면적을 1x2, 2x1 타일로 타일링 하는 방법의 가짓 수 구하기\n",
    "- 조건 1. 1 <= n <= 30 입력"
   ]
  },
  {
   "cell_type": "code",
   "execution_count": 2,
   "metadata": {},
   "outputs": [],
   "source": [
    "import sys\n",
    "sys.setrecursionlimit(1000000)"
   ]
  },
  {
   "cell_type": "code",
   "execution_count": 9,
   "metadata": {},
   "outputs": [],
   "source": [
    "limit = 30\n",
    "memory = [0] * (limit + 1)\n",
    "\n",
    "def tiling(n):\n",
    "    if n == 0: return 1 # why not 0 ??????? a_ha?!?! if not, n == 4: return 9 (not 11)\n",
    "    if n == 1: return 0 # exception ..\n",
    "    if n == 2: return 3\n",
    "    if memory[n]: return memory[n]\n",
    "    memory[n] = 3*tiling(n - 2)\n",
    "    for i in range(3, n+1): # exception ..\n",
    "        if i % 2 == 0:\n",
    "            memory[n] += 2*tiling(n - i)\n",
    "    return memory[n]"
   ]
  },
  {
   "cell_type": "code",
   "execution_count": 10,
   "metadata": {},
   "outputs": [
    {
     "name": "stdout",
     "output_type": "stream",
     "text": [
      "10\n",
      "571\n"
     ]
    }
   ],
   "source": [
    "n = int(input())\n",
    "print(tiling(n))"
   ]
  },
  {
   "cell_type": "code",
   "execution_count": null,
   "metadata": {},
   "outputs": [],
   "source": []
  }
 ],
 "metadata": {
  "kernelspec": {
   "display_name": "Python 3",
   "language": "python",
   "name": "python3"
  },
  "language_info": {
   "codemirror_mode": {
    "name": "ipython",
    "version": 3
   },
   "file_extension": ".py",
   "mimetype": "text/x-python",
   "name": "python",
   "nbconvert_exporter": "python",
   "pygments_lexer": "ipython3",
   "version": "3.6.10"
  }
 },
 "nbformat": 4,
 "nbformat_minor": 4
}
