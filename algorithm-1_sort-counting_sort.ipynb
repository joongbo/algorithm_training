{
 "cells": [
  {
   "cell_type": "markdown",
   "metadata": {},
   "source": [
    "### 계수정렬\n",
    "범위조건이 있을 때, 각 수의 개수를 세서 정렬"
   ]
  },
  {
   "cell_type": "code",
   "execution_count": 1,
   "metadata": {},
   "outputs": [],
   "source": [
    "# N 은 1이상 100 이하의 자연수\n",
    "A = [1,6,7,8,34,3,4,78,9,54,2,3,76,7]"
   ]
  },
  {
   "cell_type": "code",
   "execution_count": 2,
   "metadata": {},
   "outputs": [],
   "source": [
    "N = 100\n",
    "def countSort(A):\n",
    "    S = [0] * (N+1)\n",
    "    for a in A:\n",
    "        S[a] += 1\n",
    "    idx = 0\n",
    "    for i, s in enumerate(S):\n",
    "        if s > 0:\n",
    "            for _ in range(s):\n",
    "                A[idx] = i\n",
    "                idx += 1"
   ]
  },
  {
   "cell_type": "code",
   "execution_count": 3,
   "metadata": {},
   "outputs": [
    {
     "name": "stdout",
     "output_type": "stream",
     "text": [
      "[1, 2, 3, 3, 4, 6, 7, 7, 8, 9, 34, 54, 76, 78]\n"
     ]
    }
   ],
   "source": [
    "A = [1,6,7,8,34,3,4,78,9,54,2,3,76,7]\n",
    "countSort(A)\n",
    "print(A)"
   ]
  }
 ],
 "metadata": {
  "kernelspec": {
   "display_name": "Python 3",
   "language": "python",
   "name": "python3"
  },
  "language_info": {
   "codemirror_mode": {
    "name": "ipython",
    "version": 3
   },
   "file_extension": ".py",
   "mimetype": "text/x-python",
   "name": "python",
   "nbconvert_exporter": "python",
   "pygments_lexer": "ipython3",
   "version": "3.6.10"
  }
 },
 "nbformat": 4,
 "nbformat_minor": 4
}
